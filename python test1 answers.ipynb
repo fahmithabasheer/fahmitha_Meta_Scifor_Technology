{
  "nbformat": 4,
  "nbformat_minor": 0,
  "metadata": {
    "colab": {
      "provenance": []
    },
    "kernelspec": {
      "name": "python3",
      "display_name": "Python 3"
    },
    "language_info": {
      "name": "python"
    }
  },
  "cells": [
    {
      "cell_type": "markdown",
      "source": [
        "PART 1\n",
        "1. Lists, dictionaries, tuples, integers, floats, strings, sets.\n",
        "\n",
        "2. List:-Elements are mutable, allows duplicates,\n",
        "   ordered.\n",
        "   Tuple:- Elements are immutable, ordered, allows duplicates.\n",
        "   Sets:- mutable, unordered, allows only unique elements.  \n",
        "3.\n",
        "\n",
        "4. Decorators are functions that modify the behaviour of another funtion or method.   \n"
      ],
      "metadata": {
        "id": "_JQubXlpO2hj"
      }
    },
    {
      "cell_type": "code",
      "source": [
        "def my_decorator(func):\n",
        "  def wrapper():\n",
        "    print(\"Something is happening before the function is called.\")\n",
        "    func()\n",
        "    print(\"Something is happening after the function is called.\")\n",
        "  return wrapper\n",
        "\n",
        "@my_decorator\n",
        "def say_whee():\n",
        "  print(\"Whee!\")\n",
        "\n",
        "say_whee()\n"
      ],
      "metadata": {
        "colab": {
          "base_uri": "https://localhost:8080/"
        },
        "id": "PDTyrbNsSJ8F",
        "outputId": "0af619ca-b0bc-4c6c-c490-18c24af477c8"
      },
      "execution_count": null,
      "outputs": [
        {
          "output_type": "stream",
          "name": "stdout",
          "text": [
            "Something is happening before the function is called.\n",
            "Whee!\n",
            "Something is happening after the function is called.\n"
          ]
        }
      ]
    },
    {
      "cell_type": "markdown",
      "source": [
        "5. A lambda function is an anonymous function defined using the lambda keyword. it can take multiple arguments but has only one exspression"
      ],
      "metadata": {
        "id": "rFSLKUl_TK5w"
      }
    },
    {
      "cell_type": "code",
      "source": [
        "add= lambda x,y: x+y\n",
        "print(add(3,4))"
      ],
      "metadata": {
        "colab": {
          "base_uri": "https://localhost:8080/"
        },
        "id": "X9WVzXJqTr8t",
        "outputId": "6fd37293-863e-40fb-f246-47e4c3a92809"
      },
      "execution_count": 7,
      "outputs": [
        {
          "output_type": "stream",
          "name": "stdout",
          "text": [
            "7\n"
          ]
        }
      ]
    },
    {
      "cell_type": "markdown",
      "source": [
        "7. working with files"
      ],
      "metadata": {
        "id": "-Fal3TupUXE3"
      }
    },
    {
      "cell_type": "code",
      "source": [
        "# Opening a file\n",
        "file = open('data.txt', 'r')\n",
        "\n",
        "# Reading a file\n",
        "content = file.read()\n",
        "\n",
        "# Writing to a file\n",
        "with open('new file.txt', 'w') as file:\n",
        "    file.write(\"Hello, World!\")"
      ],
      "metadata": {
        "id": "HyilJYhiUL0s"
      },
      "execution_count": null,
      "outputs": []
    },
    {
      "cell_type": "markdown",
      "source": [
        "PART 2\n",
        "1. Encapsulation:- Bundling data and methods that\n",
        "   operate on data within a class.\n",
        "   Abstraction:- Hiding complex implementation details and showing only the necessary features.\n",
        "   Inheritance:- A derived class can inherit methods and properties from another base class.\n",
        "   Polymorphism:- Different classes can have methods with same name allowing for different implementations.\n",
        "\n",
        "2. Class is a blueprint for creating objects.\n",
        "   An object is simply a collection of data variables and functions or methods."
      ],
      "metadata": {
        "id": "eqkvp9_WVcl-"
      }
    },
    {
      "cell_type": "code",
      "source": [
        "#3. creating a class\n",
        "class Car:\n",
        "    def __init__(self, model, color):\n",
        "        self.model = model\n",
        "        self.color = color\n",
        "\n",
        "my_car = Car(\"Toyota\", \"Red\")\n",
        "print(my_car.model)\n",
        "print(my_car.color)\n"
      ],
      "metadata": {
        "colab": {
          "base_uri": "https://localhost:8080/"
        },
        "id": "yar3JVL_YUPq",
        "outputId": "2bb5123d-2ade-49dd-bb21-7e7b294d746c"
      },
      "execution_count": 11,
      "outputs": [
        {
          "output_type": "stream",
          "name": "stdout",
          "text": [
            "Toyota\n",
            "Red\n"
          ]
        }
      ]
    },
    {
      "cell_type": "markdown",
      "source": [
        "4. Instance variable:- Defined inside methods and specific to an object.\n",
        "  Class variables:- Shared across all instances of a class.\n",
        "\n",
        "5. _init_ method:- Used to initialize the object's attributes when a new object is created.\n",
        "\n",
        "6. self: Refers to the instance of the class.\n",
        "cls: Refers to the class itself, used in class methods.\n",
        "\n",
        "7. Inheritance allows a derived class to inherit attributes and methods from another base class.\n",
        "\n"
      ],
      "metadata": {
        "id": "CnEYiVJaYzQS"
      }
    },
    {
      "cell_type": "code",
      "source": [
        "class Animal:\n",
        "    def speak(self):\n",
        "        print(\"Animal speaks\")\n",
        "\n",
        "class Dog(Animal):\n",
        "    def bark(self):\n",
        "        print(\"Dog barks\")\n",
        "\n",
        "dog = Dog()\n",
        "dog.speak()\n",
        "dog.bark()\n"
      ],
      "metadata": {
        "colab": {
          "base_uri": "https://localhost:8080/"
        },
        "id": "Uc5f2fVKRyl1",
        "outputId": "52d94140-3767-4156-8006-6bfaf4fe0ccc"
      },
      "execution_count": 14,
      "outputs": [
        {
          "output_type": "stream",
          "name": "stdout",
          "text": [
            "Animal speaks\n",
            "Dog barks\n"
          ]
        }
      ]
    },
    {
      "cell_type": "markdown",
      "source": [
        "8. Method Overriding: Changing the implementation of  \n",
        "   a method in a subclass.\n",
        "   Method Overloading: Python doesn't support traditional method overloading (same method name with different parameters), but you can achieve similar behavior using default arguments or variable-length arguments.\n",
        "\n",
        "9. Multiple inheritance allows a class to inherit from more than one class."
      ],
      "metadata": {
        "id": "9Q77oG-HbXIC"
      }
    },
    {
      "cell_type": "code",
      "source": [
        "class Father:\n",
        "    def skills(self):\n",
        "        print(\"Father's skills\")\n",
        "\n",
        "class Mother:\n",
        "    def skills(self):\n",
        "        print(\"Mother's skills\")\n",
        "\n",
        "class Child(Father, Mother):\n",
        "    def skills(self):\n",
        "        super().skills()\n",
        "        print(\"Child's skills\")\n",
        "\n",
        "child = Child()\n",
        "mother = Mother()\n",
        "child.skills()"
      ],
      "metadata": {
        "colab": {
          "base_uri": "https://localhost:8080/"
        },
        "id": "A_SgPdntb4oF",
        "outputId": "d4e49e71-69fb-4da9-ca14-295a8ded783d"
      },
      "execution_count": 15,
      "outputs": [
        {
          "output_type": "stream",
          "name": "stdout",
          "text": [
            "Father's skills\n",
            "Child's skills\n"
          ]
        }
      ]
    },
    {
      "cell_type": "markdown",
      "source": [
        "10. Abstract classes cannot be instantiated directly and often contain abstract methods.\n",
        "\n",
        "11. Polymorphism allows different classes to define methods with the same name."
      ],
      "metadata": {
        "id": "Odmk0oh2cZqh"
      }
    },
    {
      "cell_type": "code",
      "source": [
        "class Animal:\n",
        "    def make_sound(self):\n",
        "        print(\"Generic animal sound\")\n",
        "class Dog(Animal):\n",
        "    def make_sound(self):\n",
        "        print(\"Woof!\")\n",
        "class Cat(Animal):\n",
        "    def make_sound(self):\n",
        "        print(\"Meow!\")\n",
        "def speak(animal):\n",
        "    animal.make_sound()\n",
        "dog = Dog()\n",
        "cat = Cat()\n",
        "\n",
        "speak(dog)\n",
        "speak(cat)"
      ],
      "metadata": {
        "colab": {
          "base_uri": "https://localhost:8080/"
        },
        "id": "9rl8EB67dnhg",
        "outputId": "ed0315f8-2bd5-476d-ddd0-bdb947f1546f"
      },
      "execution_count": 17,
      "outputs": [
        {
          "output_type": "stream",
          "name": "stdout",
          "text": [
            "Woof!\n",
            "Meow!\n"
          ]
        }
      ]
    },
    {
      "cell_type": "markdown",
      "source": [
        "12. Encapsulation is bundling data and methods that operate on data within a class.\n",
        "\n",
        "13.\n",
        "\n",
        "14.\n",
        "\n",
        "15. Static Method: Defined using @staticmethod, doesn't access class or instance variables.\n",
        "\n",
        "Class Method: Defined using @classmethod, can modify class-level data."
      ],
      "metadata": {
        "id": "6rFCt0DjePqi"
      }
    }
  ]
}